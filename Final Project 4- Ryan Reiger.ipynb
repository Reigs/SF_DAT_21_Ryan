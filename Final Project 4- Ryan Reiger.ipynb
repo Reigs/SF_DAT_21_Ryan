{
 "cells": [
  {
   "cell_type": "code",
   "execution_count": 3,
   "metadata": {
    "collapsed": false
   },
   "outputs": [
    {
     "name": "stderr",
     "output_type": "stream",
     "text": [
      "/Users/RyanReiger/anaconda/lib/python2.7/site-packages/IPython/html.py:14: ShimWarning: The `IPython.html` package has been deprecated. You should import from `notebook` instead. `IPython.html.widgets` has moved to `ipywidgets`.\n",
      "  \"`IPython.html.widgets` has moved to `ipywidgets`.\", ShimWarning)\n"
     ]
    }
   ],
   "source": [
    "import os\n",
    "import numpy as np\n",
    "import pandas as pd\n",
    "import matplotlib.pyplot as plt\n",
    "import seaborn as sns\n",
    "import statsmodels as sm\n",
    "import statsmodels.formula.api as smf\n",
    "from sklearn import linear_model, neighbors, cross_validation, grid_search\n",
    "import datetime as datetime\n",
    "from pylab import plotfile, show, gca\n",
    "import matplotlib.cbook as cbook\n",
    "import pylab as pl\n",
    "from statsmodels.graphics.tsaplots import plot_acf\n",
    "\n",
    "pd.set_option('display.max_rows', 35)\n",
    "pd.set_option('display.notebook_repr_html', True)\n",
    "pd.set_option('display.max_columns', 10)\n",
    "\n",
    "%matplotlib inline\n",
    "\n",
    "plt.style.use('ggplot')"
   ]
  },
  {
   "cell_type": "code",
   "execution_count": 4,
   "metadata": {
    "collapsed": false
   },
   "outputs": [],
   "source": [
    "df = pd.read_csv('/Users/RyanReiger/GA_Stuff/Final_Project/Project_DB_Update.csv')"
   ]
  },
  {
   "cell_type": "code",
   "execution_count": 5,
   "metadata": {
    "collapsed": false
   },
   "outputs": [],
   "source": [
    "#renaming columns\n",
    "df = df.rename(columns={'NYSE_%Spread': 'NYSE_Spread_bps'})\n",
    "df = df.rename(columns={'NYSE_%Range': 'NYSE_pct_range'})\n",
    "df = df.rename(columns={'NYSE_%Spread': 'NYSE_Spread_bps'})\n",
    "df = df.rename(columns={'Spread_$':'Spread_Dollar'})\n",
    "df = df.rename(columns={'NAV ': 'NAV'})\n",
    "#formatting Date and Fund Inception columns\n",
    "df.Date = pd.to_datetime(df.Date)\n",
    "df.Inception = pd.to_datetime(df.Inception)\n",
    "#Transforming Varables\n",
    "df['Ask_Val'] = df['NYSE_Ask_Size'] * df['NYSE_VWAP']\n",
    "df['Bid_Val'] = df['NYSE_Bid_Size'] * df['NYSE_VWAP']\n",
    "df['Vintage'] = df.Date - df.Inception\n",
    "df['AUM'] = df.Shares_Outstanding * df.NAV * 1000\n",
    "#Formatting Vintage Varable\n",
    "df.Vintage = df.Vintage.astype('timedelta64[D]')\n",
    "df.ix[df.Vintage == 0, 'Vintage'] = 1\n",
    "#Creating my dependent variable\n",
    "df['Asset_Velocity'] = df.AUM / (df.Vintage * 1.0)\n",
    "#Dropping Variables\n",
    "df = df.drop('Spread_bps', 1)\n",
    "df = df.drop('Spread_Dollar', 1)\n",
    "#Transformation\n",
    "df.Asset_Velocity = df.Asset_Velocity.astype(float)\n",
    "df = df.drop('Price_Change', 1)\n",
    "df['Log_Asset_Velocity'] = np.log(df.Asset_Velocity)\n",
    "df['Log_Dollar_Volume'] = np.log(df.Dollar_Volume)\n",
    "df['Premium_Discount_Adj'] = df.Premium_Discount + 1\n",
    "df['Log_Premium_Discount'] = np.log(df.Premium_Discount_Adj)\n",
    "df['Log_NYSE_Spread_bps'] = np.log(df.NYSE_Spread_bps)\n",
    "df['Log_Ask_Val'] = np.log(df.Ask_Val)\n",
    "df['Log_Bid_Val'] = np.log(df.Bid_Val)"
   ]
  },
  {
   "cell_type": "code",
   "execution_count": 6,
   "metadata": {
    "collapsed": false
   },
   "outputs": [],
   "source": [
    "#Indexing the date\n",
    "df.set_index('Date', inplace = True)\n",
    "df['Year'] = df.index.year\n",
    "df['Month'] = df.index.month\n"
   ]
  },
  {
   "cell_type": "code",
   "execution_count": 7,
   "metadata": {
    "collapsed": false
   },
   "outputs": [],
   "source": [
    "#Splitting Data Frames\n",
    "df_EEM = df[df.Fund == \"EEM\"]\n",
    "df_VWO = df[df.Fund == \"VWO\"]\n",
    "df_IEMG = df[df.Fund == \"IEMG\"]\n",
    "df_SCHE = df[df.Fund == \"SCHE\"]"
   ]
  },
  {
   "cell_type": "code",
   "execution_count": 8,
   "metadata": {
    "collapsed": false
   },
   "outputs": [
    {
     "data": {
      "text/plain": [
       "0.94953725542212997"
      ]
     },
     "execution_count": 8,
     "metadata": {},
     "output_type": "execute_result"
    }
   ],
   "source": [
    "#Auto Corralate\n",
    "df_EEM.Asset_Velocity.resample('D', how = 'mean').autocorr(lag = 20)"
   ]
  },
  {
   "cell_type": "code",
   "execution_count": 9,
   "metadata": {
    "collapsed": false
   },
   "outputs": [
    {
     "data": {
      "text/plain": [
       "<matplotlib.axes._subplots.AxesSubplot at 0x1096ffd10>"
      ]
     },
     "execution_count": 9,
     "metadata": {},
     "output_type": "execute_result"
    },
    {
     "data": {
      "image/png": "[encoded data removed]",
      "text/plain": [
       "<matplotlib.figure.Figure at 0x10399c5d0>"
      ]
     },
     "metadata": {},
     "output_type": "display_data"
    }
   ],
   "source": [
    "pd.tools.plotting.autocorrelation_plot(df_EEM.NYSE_Spread_bps)"
   ]
  },
  {
   "cell_type": "code",
   "execution_count": 10,
   "metadata": {
    "collapsed": false
   },
   "outputs": [
    {
     "data": {
      "text/plain": [
       "Index([u'Fund', u'Close_Price', u'High_Price', u'Low_Price', u'NAV',\n",
       "       u'Premium_Discount', u'Volume', u'Dollar_Volume', u'Fund_Flow',\n",
       "       u'Shares_Outstanding', u'Inception', u'NYSE_MKT_SHR', u'NYSE_VOLUME',\n",
       "       u'NYSE_Dollar_Volume', u'NYSE_Intraday_Volatility',\n",
       "       u'NYSE_Daily_Volatility', u'NYSE_Close', u'NYSE_VWAP', u'NYSE_Range',\n",
       "       u'NYSE_pct_range', u'NYSE_Spread', u'NYSE_Spread_bps', u'NYSE_Bid_Size',\n",
       "       u'NYSE_Ask_Size', u'NYSE_Average_Size', u'Ask_Val', u'Bid_Val',\n",
       "       u'Vintage', u'AUM', u'Asset_Velocity', u'Log_Asset_Velocity',\n",
       "       u'Log_Dollar_Volume', u'Premium_Discount_Adj', u'Log_Premium_Discount',\n",
       "       u'Log_NYSE_Spread_bps', u'Log_Ask_Val', u'Log_Bid_Val', u'Year',\n",
       "       u'Month'],\n",
       "      dtype='object')"
      ]
     },
     "execution_count": 10,
     "metadata": {},
     "output_type": "execute_result"
    }
   ],
   "source": [
    "df.columns"
   ]
  },
  {
   "cell_type": "code",
   "execution_count": 75,
   "metadata": {
    "collapsed": false
   },
   "outputs": [
    {
     "data": {
      "image/png": "[encoded data removed]",
      "text/plain": [
       "<matplotlib.figure.Figure at 0x109c1e410>"
      ]
     },
     "metadata": {},
     "output_type": "display_data"
    }
   ],
   "source": [
    "plot = plot_acf(df_EEM.Close_Price, lags = 5)"
   ]
  },
  {
   "cell_type": "code",
   "execution_count": 12,
   "metadata": {
    "collapsed": true
   },
   "outputs": [],
   "source": [
    "df.dropna(subset=['NAV'], inplace=True)\n",
    "df.dropna(subset=['Asset_Velocity'], inplace=True)\n",
    "df.Fund_Flow = df.Fund_Flow.fillna(0)\n",
    "df.dropna(subset=['NYSE_Close'], inplace=True)"
   ]
  },
  {
   "cell_type": "code",
   "execution_count": 13,
   "metadata": {
    "collapsed": false
   },
   "outputs": [],
   "source": [
    "df.Asset_Velocity = df.Asset_Velocity.astype(float)\n"
   ]
  },
  {
   "cell_type": "code",
   "execution_count": 65,
   "metadata": {
    "collapsed": false
   },
   "outputs": [
    {
     "data": {
      "text/plain": [
       "Fund                        0\n",
       "Close_Price                 0\n",
       "High_Price                  0\n",
       "Low_Price                   0\n",
       "NAV                         0\n",
       "Premium_Discount            1\n",
       "Volume                      0\n",
       "Dollar_Volume               0\n",
       "Fund_Flow                   1\n",
       "Shares_Outstanding          1\n",
       "Inception                   0\n",
       "NYSE_MKT_SHR                2\n",
       "NYSE_VOLUME                 2\n",
       "NYSE_Dollar_Volume          2\n",
       "NYSE_Intraday_Volatility    2\n",
       "NYSE_Daily_Volatility       2\n",
       "NYSE_Close                  2\n",
       "                           ..\n",
       "NYSE_Bid_Size               2\n",
       "NYSE_Ask_Size               2\n",
       "NYSE_Average_Size           2\n",
       "Ask_Val                     2\n",
       "Bid_Val                     2\n",
       "Vintage                     0\n",
       "AUM                         1\n",
       "Asset_Velocity              1\n",
       "Log_Asset_Velocity          1\n",
       "Log_Dollar_Volume           0\n",
       "Premium_Discount_Adj        1\n",
       "Log_Premium_Discount        1\n",
       "Log_NYSE_Spread_bps         2\n",
       "Log_Ask_Val                 2\n",
       "Log_Bid_Val                 2\n",
       "Year                        0\n",
       "Month                       0\n",
       "dtype: int64"
      ]
     },
     "execution_count": 65,
     "metadata": {},
     "output_type": "execute_result"
    }
   ],
   "source": [
    "df_EEM.isnull().sum()"
   ]
  },
  {
   "cell_type": "code",
   "execution_count": 66,
   "metadata": {
    "collapsed": false
   },
   "outputs": [
    {
     "name": "stderr",
     "output_type": "stream",
     "text": [
      "/Users/RyanReiger/anaconda/lib/python2.7/site-packages/ipykernel/__main__.py:1: SettingWithCopyWarning: \n",
      "A value is trying to be set on a copy of a slice from a DataFrame\n",
      "\n",
      "See the the caveats in the documentation: http://pandas.pydata.org/pandas-docs/stable/indexing.html#indexing-view-versus-copy\n",
      "  if __name__ == '__main__':\n"
     ]
    }
   ],
   "source": [
    "df_EEM.dropna(subset=['Asset_Velocity'], inplace=True)\n"
   ]
  },
  {
   "cell_type": "code",
   "execution_count": 72,
   "metadata": {
    "collapsed": false
   },
   "outputs": [
    {
     "data": {
      "text/html": [
       "<table class=\"simpletable\">\n",
       "<caption>ARMA Model Results</caption>\n",
       "<tr>\n",
       "  <th>Dep. Variable:</th>  <td>Asset_Velocity</td>  <th>  No. Observations:  </th>    <td>2768</td>   \n",
       "</tr>\n",
       "<tr>\n",
       "  <th>Model:</th>            <td>ARMA(1, 4)</td>    <th>  Log Likelihood     </th> <td>-37282.260</td>\n",
       "</tr>\n",
       "<tr>\n",
       "  <th>Method:</th>             <td>css-mle</td>     <th>  S.D. of innovations</th> <td>170927.762</td>\n",
       "</tr>\n",
       "<tr>\n",
       "  <th>Date:</th>          <td>Sun, 01 May 2016</td> <th>  AIC                </th>  <td>74578.521</td>\n",
       "</tr>\n",
       "<tr>\n",
       "  <th>Time:</th>              <td>15:37:00</td>     <th>  BIC                </th>  <td>74620.002</td>\n",
       "</tr>\n",
       "<tr>\n",
       "  <th>Sample:</th>           <td>01-03-2005</td>    <th>  HQIC               </th>  <td>74593.502</td>\n",
       "</tr>\n",
       "<tr>\n",
       "  <th></th>                 <td>- 12-31-2015</td>   <th>                     </th>      <td> </td>    \n",
       "</tr>\n",
       "</table>\n",
       "<table class=\"simpletable\">\n",
       "<tr>\n",
       "            <td></td>              <th>coef</th>     <th>std err</th>      <th>z</th>      <th>P>|z|</th> <th>[95.0% Conf. Int.]</th> \n",
       "</tr>\n",
       "<tr>\n",
       "  <th>const</th>                <td> 1.084e+07</td> <td> 1.57e+06</td> <td>    6.913</td> <td> 0.000</td> <td> 7.77e+06  1.39e+07</td>\n",
       "</tr>\n",
       "<tr>\n",
       "  <th>ar.L1.Asset_Velocity</th> <td>    0.9970</td> <td>    0.002</td> <td>  594.677</td> <td> 0.000</td> <td>    0.994     1.000</td>\n",
       "</tr>\n",
       "<tr>\n",
       "  <th>ma.L1.Asset_Velocity</th> <td>    0.2709</td> <td>    0.019</td> <td>   14.275</td> <td> 0.000</td> <td>    0.234     0.308</td>\n",
       "</tr>\n",
       "<tr>\n",
       "  <th>ma.L2.Asset_Velocity</th> <td>    0.1207</td> <td>    0.020</td> <td>    6.066</td> <td> 0.000</td> <td>    0.082     0.160</td>\n",
       "</tr>\n",
       "<tr>\n",
       "  <th>ma.L3.Asset_Velocity</th> <td>    0.0652</td> <td>    0.021</td> <td>    3.153</td> <td> 0.002</td> <td>    0.025     0.106</td>\n",
       "</tr>\n",
       "<tr>\n",
       "  <th>ma.L4.Asset_Velocity</th> <td>    0.0562</td> <td>    0.019</td> <td>    3.002</td> <td> 0.003</td> <td>    0.020     0.093</td>\n",
       "</tr>\n",
       "</table>\n",
       "<table class=\"simpletable\">\n",
       "<caption>Roots</caption>\n",
       "<tr>\n",
       "    <td></td>   <th>           Real</th> <th>         Imaginary</th> <th>         Modulus</th> <th>        Frequency</th>\n",
       "</tr>\n",
       "<tr>\n",
       "  <th>AR.1</th>               1.0030                    +0.0000j                    1.0030                    0.0000     \n",
       "</tr>\n",
       "<tr>\n",
       "  <th>MA.1</th>               0.9968                    -1.7915j                    2.0501                   -0.1692     \n",
       "</tr>\n",
       "<tr>\n",
       "  <th>MA.2</th>               0.9968                    +1.7915j                    2.0501                    0.1692     \n",
       "</tr>\n",
       "<tr>\n",
       "  <th>MA.3</th>              -1.5771                    -1.3211j                    2.0573                   -0.3890     \n",
       "</tr>\n",
       "<tr>\n",
       "  <th>MA.4</th>              -1.5771                    +1.3211j                    2.0573                    0.3890     \n",
       "</tr>\n",
       "</table>"
      ],
      "text/plain": [
       "<class 'statsmodels.iolib.summary.Summary'>\n",
       "\"\"\"\n",
       "                              ARMA Model Results                              \n",
       "==============================================================================\n",
       "Dep. Variable:         Asset_Velocity   No. Observations:                 2768\n",
       "Model:                     ARMA(1, 4)   Log Likelihood              -37282.260\n",
       "Method:                       css-mle   S.D. of innovations         170927.762\n",
       "Date:                Sun, 01 May 2016   AIC                          74578.521\n",
       "Time:                        15:37:00   BIC                          74620.002\n",
       "Sample:                    01-03-2005   HQIC                         74593.502\n",
       "                         - 12-31-2015                                         \n",
       "========================================================================================\n",
       "                           coef    std err          z      P>|z|      [95.0% Conf. Int.]\n",
       "----------------------------------------------------------------------------------------\n",
       "const                 1.084e+07   1.57e+06      6.913      0.000      7.77e+06  1.39e+07\n",
       "ar.L1.Asset_Velocity     0.9970      0.002    594.677      0.000         0.994     1.000\n",
       "ma.L1.Asset_Velocity     0.2709      0.019     14.275      0.000         0.234     0.308\n",
       "ma.L2.Asset_Velocity     0.1207      0.020      6.066      0.000         0.082     0.160\n",
       "ma.L3.Asset_Velocity     0.0652      0.021      3.153      0.002         0.025     0.106\n",
       "ma.L4.Asset_Velocity     0.0562      0.019      3.002      0.003         0.020     0.093\n",
       "                                    Roots                                    \n",
       "=============================================================================\n",
       "                 Real           Imaginary           Modulus         Frequency\n",
       "-----------------------------------------------------------------------------\n",
       "AR.1            1.0030           +0.0000j            1.0030            0.0000\n",
       "MA.1            0.9968           -1.7915j            2.0501           -0.1692\n",
       "MA.2            0.9968           +1.7915j            2.0501            0.1692\n",
       "MA.3           -1.5771           -1.3211j            2.0573           -0.3890\n",
       "MA.4           -1.5771           +1.3211j            2.0573            0.3890\n",
       "-----------------------------------------------------------------------------\n",
       "\"\"\""
      ]
     },
     "execution_count": 72,
     "metadata": {},
     "output_type": "execute_result"
    }
   ],
   "source": [
    "model = sm.tsa.arima_model.ARMA(df_EEM.Asset_Velocity.astype(float), (1, 4)).fit()\n",
    "\n",
    "model.summary()"
   ]
  },
  {
   "cell_type": "code",
   "execution_count": 80,
   "metadata": {
    "collapsed": false
   },
   "outputs": [
    {
     "data": {
      "image/png": "[encoded data removed]",
      "text/plain": [
       "<matplotlib.figure.Figure at 0x10d1b60d0>"
      ]
     },
     "metadata": {},
     "output_type": "display_data"
    }
   ],
   "source": [
    "plot = model.plot_predict(5, 2500)"
   ]
  },
  {
   "cell_type": "code",
   "execution_count": null,
   "metadata": {
    "collapsed": true
   },
   "outputs": [],
   "source": []
  }
 ],
 "metadata": {
  "kernelspec": {
   "display_name": "Python 2",
   "language": "python",
   "name": "python2"
  },
  "language_info": {
   "codemirror_mode": {
    "name": "ipython",
    "version": 2
   },
   "file_extension": ".py",
   "mimetype": "text/x-python",
   "name": "python",
   "nbconvert_exporter": "python",
   "pygments_lexer": "ipython2",
   "version": "2.7.11"
  }
 },
 "nbformat": 4,
 "nbformat_minor": 0
}
