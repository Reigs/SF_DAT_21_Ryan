{
 "cells": [
  {
   "cell_type": "markdown",
   "metadata": {},
   "source": [
    "##Read and evaluate the following problem statement:\n",
    "#####Determine which free-tier customers will covert to paying customers, using demographic data collected at signup (age, gender, location, and profession) and customer useage data (days since last log in, and activity score 1 = active user, 0 = inactive user) based on Hooli data from Jan-Apr 2015."
   ]
  },
  {
   "cell_type": "markdown",
   "metadata": {},
   "source": [
    "#### 1. What is the outcome?"
   ]
  },
  {
   "cell_type": "markdown",
   "metadata": {},
   "source": [
    "Answer: determine which users would be will to convert from Free-Tier to Paid customer"
   ]
  },
  {
   "cell_type": "markdown",
   "metadata": {},
   "source": [
    "#### 2. What are the predictors/covariates?"
   ]
  },
  {
   "cell_type": "markdown",
   "metadata": {},
   "source": [
    "Answer: age, gender, location, profession, last login, usage score\n"
   ]
  },
  {
   "cell_type": "markdown",
   "metadata": {},
   "source": [
    "#### 3. What timeframe is this data relevent for?"
   ]
  },
  {
   "cell_type": "markdown",
   "metadata": {},
   "source": [
    "Answer: Jan - April 2015"
   ]
  },
  {
   "cell_type": "markdown",
   "metadata": {},
   "source": [
    "#### 4. What is the hypothesis?"
   ]
  },
  {
   "cell_type": "markdown",
   "metadata": {},
   "source": [
    "Answer: High Usage score, low days sense last login would ideal predictors of customer that would pay for service"
   ]
  },
  {
   "cell_type": "markdown",
   "metadata": {
    "collapsed": true
   },
   "source": [
    "##Lets get started with our data set"
   ]
  },
  {
   "cell_type": "markdown",
   "metadata": {},
   "source": [
    "1. Data Dictonary \n",
    "\n",
    "|Variable   |Description    |Type |\n",
    "|----------:|:-------------:|----:|\n",
    "|*GPA*    | *Grade Point Avg*  | *Continious* |\n",
    "|*GRE*   | *Test Score*   | Continious   |\n",
    "|*Prestige*   | UnderGrad Program   |  Catagorical|"
   ]
  },
  {
   "cell_type": "markdown",
   "metadata": {},
   "source": [
    "2.Outcome: Admission into UCLA (Admit)"
   ]
  },
  {
   "cell_type": "markdown",
   "metadata": {},
   "source": [
    "3.Predictors/Covariants: GPA, GRE, Prestige"
   ]
  },
  {
   "cell_type": "markdown",
   "metadata": {},
   "source": [
    "4.Time Frame: Not specified"
   ]
  },
  {
   "cell_type": "markdown",
   "metadata": {},
   "source": [
    "5.Hypothesis: |\n",
    "x = GPA factor |\n",
    "y = GRE factor |\n",
    "Z = Prestiege factor |\n",
    "xy = admission threshold |\n",
    "Admission_Score = GPA (X) + GRE (y) + Prestiege (z) |\n",
    "if Admission_score > Xy, then admit |   \n",
    " \n"
   ]
  },
  {
   "cell_type": "markdown",
   "metadata": {
    "collapsed": true
   },
   "source": [
    "##Problem Statement\n"
   ]
  },
  {
   "cell_type": "markdown",
   "metadata": {},
   "source": [
    "What factor has the strongest corr with gaining acceptance into UCLA"
   ]
  },
  {
   "cell_type": "markdown",
   "metadata": {},
   "source": [
    "##Exploratory Analysis Plan (Zillow Data)\n"
   ]
  },
  {
   "cell_type": "markdown",
   "metadata": {},
   "source": [
    "1. Understand if it meets the SMART goal framework "
   ]
  },
  {
   "cell_type": "markdown",
   "metadata": {},
   "source": [
    "2a.I am assuming the zillow data is accurate, and is a large enough sample of all home sales in SF to make an accurate assumptions"
   ]
  },
  {
   "cell_type": "markdown",
   "metadata": {},
   "source": [
    "2b.I will initally graph the data using a scatter plot to get a general sense of pricing of homes by different catagories/classifications"
   ]
  },
  {
   "cell_type": "markdown",
   "metadata": {},
   "source": [
    "3a.Outliners are going to skew the data, example a house in a $3m neightboorhood that was destroyed by a fire. "
   ]
  },
  {
   "cell_type": "markdown",
   "metadata": {},
   "source": [
    "3b.Veryify an individuals homes pricing data is within a standard devation of the average neighboorhoods price"
   ]
  },
  {
   "cell_type": "markdown",
   "metadata": {},
   "source": [
    "4a.Recording the same thing but in different formats ex \"$1m\" or \"$1000000\""
   ]
  },
  {
   "cell_type": "markdown",
   "metadata": {},
   "source": [
    "4b. df.SalePrice.unique()"
   ]
  },
  {
   "cell_type": "markdown",
   "metadata": {},
   "source": [
    "5.Use the zillow data to identify which factor of the data factors is more corr with a certain housing pricing"
   ]
  },
  {
   "cell_type": "code",
   "execution_count": null,
   "metadata": {
    "collapsed": true
   },
   "outputs": [],
   "source": []
  }
 ],
 "metadata": {
  "kernelspec": {
   "display_name": "Python 2",
   "language": "python",
   "name": "python2"
  },
  "language_info": {
   "codemirror_mode": {
    "name": "ipython",
    "version": 2
   },
   "file_extension": ".py",
   "mimetype": "text/x-python",
   "name": "python",
   "nbconvert_exporter": "python",
   "pygments_lexer": "ipython2",
   "version": "2.7.11"
  }
 },
 "nbformat": 4,
 "nbformat_minor": 0
}
